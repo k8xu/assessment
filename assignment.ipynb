{
 "cells": [
  {
   "cell_type": "markdown",
   "metadata": {},
   "source": [
    "# Assignment\n",
    "\n",
    "## Problem 1: Object Representations\n",
    "\n",
    "For this assigment we will assume all objects are rectangles and their initial locations will be specified with a position. For this first problem we are simply going to generate various objects. The cell below gives the namedtuples for making an Object. Each Object instance has dimensions, mass, a center of mass, and an RGB color.\n",
    "\n",
    "If you have never worked with namedtuples, they can be instantiated just like a class instance. Read more about them [here](<https://pymotw.com/2/collections/namedtuple.html>)."
   ]
  },
  {
   "cell_type": "code",
   "execution_count": 1,
   "metadata": {},
   "outputs": [],
   "source": [
    "from collections import namedtuple\n",
    "\n",
    "Position = namedtuple('Position', 'x y z')\n",
    "'''\n",
    ":param x: float, x position\n",
    ":param y: float, y position\n",
    ":param z: float, z position\n",
    "'''\n",
    "Dimensions = namedtuple('Dimensions', 'width length height')\n",
    "'''\n",
    ":param width: float, width of object (in the x direction)\n",
    ":param length: float, length of object (in the y direction)\n",
    ":param height: float, height of object (in the z direction)\n",
    "'''\n",
    "Color = namedtuple('Color', 'r g b')\n",
    "'''\n",
    ":param r: float in [0.,1.], red value\n",
    ":param g: float in [0.,1.], green value\n",
    ":param b: float in [0.,1.], blue value\n",
    "'''\n",
    "Object = namedtuple('Object', 'dimensions mass com color')\n",
    "'''\n",
    ":param dimensions: Dimensions, dimensions of object\n",
    ":param mass: float, mass of the object\n",
    ":param com: Position, position of the COM in the link frame (which is located at the center of the object)\n",
    ":param color: Color, RGB value of block\n",
    "''';"
   ]
  },
  {
   "cell_type": "markdown",
   "metadata": {},
   "source": [
    "1. **In the cell below make 4 different** ```Object``` **instances, all having different object properties.**\n",
    "2. **Make an** ```objects_dictionary``` **which is a dictionary where the keys are unique object names (strings) and the values are the** ```Object``` **instances you created.**"
   ]
  },
  {
   "cell_type": "code",
   "execution_count": 8,
   "metadata": {},
   "outputs": [],
   "source": [
    "# Problem 1 code here\n",
    "# Create four Object instances\n",
    "dim_a = Dimensions(width=1.0, length=1.0, height=1.0)\n",
    "pos_a = Position(x=5.0, y=10.0, z=0.5)\n",
    "color_a = Color(r=1.0, g=0.8, b=0.6)\n",
    "object_a = Object(dimensions=dim_a, mass=10.0, com=pos_a, color=color_a)\n",
    "\n",
    "dim_b = Dimensions(width=2.0, length=5.0, height=1.0)\n",
    "pos_b = Position(x=0.0, y=0.0, z=5.0)\n",
    "color_b = Color(r=0.0, g=0.5, b=0.9)\n",
    "object_b = Object(dimensions=dim_b, mass=6.0, com=pos_b, color=color_b)\n",
    "\n",
    "dim_c = Dimensions(width=1.5, length=1.5, height=1.0)\n",
    "pos_c = Position(x=6.0, y=1.0, z=1.0)\n",
    "color_c = Color(r=0.5, g=0.1, b=0.4)\n",
    "object_c = Object(dimensions=dim_c, mass=3.0, com=pos_c, color=color_c)\n",
    "\n",
    "dim_d = Dimensions(width=3.0, length=6.0, height=0.5)\n",
    "pos_d = Position(x=3.0, y=4.0, z=5.0)\n",
    "color_d = Color(r=0.8, g=0.6, b=0.2)\n",
    "object_d = Object(dimensions=dim_d, mass=8.0, com=pos_d, color=color_d)\n",
    "\n",
    "# Create objects dictionary\n",
    "objects_dictionary = {\n",
    "    'obj_a': object_a,\n",
    "    'obj_b': object_b,\n",
    "    'obj_c': object_c,\n",
    "    'obj_d': object_d\n",
    "}\n",
    "\n",
    "#print(\"obj dict : \", objects_dictionary)"
   ]
  },
  {
   "cell_type": "markdown",
   "metadata": {},
   "source": [
    "## Problem 2: Object Positions and PyBullet\n",
    "\n",
    "[PyBullet](<https://pypi.org/project/pybullet/>) (documentataion [here](<https://docs.google.com/document/d/10sXEhzFRSnvFcl3XxNGhnD4N2SedqwdAvK3dsihxVUA/edit#heading=h.2ye70wns7io3>)) is a physics simulator. We will be visualizing the objects with it. In order to visualize the objects you created, we need to give them a position. Then, the positions and object information above can be used to render the objects in pyBullet."
   ]
  },
  {
   "cell_type": "markdown",
   "metadata": {},
   "source": [
    "1. **Create an** ```object_positions_dictionary``` **which is a dictionary where the keys are the unique object names (strings) from Problem 1, and the values are** ```Position``` **namedtuples indicating the positions of the objects in the world frame. This dictionary must include a 'ground' object with** ```Position(0,0,0)``` **. The objects can be arranged any way you like.**\n",
    "2. **Create an** ```objects_position_dictionary``` **where the objects are all stacked on top of eachother.**\n",
    "3. **Use the function provided,** ```render_objects(objects_dictionary, object_positions_dictionary)``` **, to render the scenes you specified in 2.1 and 2.2.**\n",
    "\n",
    "*Hint: use Ctrl+mouse to view the simulated scene from different angles.*"
   ]
  },
  {
   "cell_type": "code",
   "execution_count": 9,
   "metadata": {},
   "outputs": [
    {
     "name": "stdout",
     "output_type": "stream",
     "text": [
      "obj pos dict :  {'ground': Position(x=0, y=0, z=0), 'obj_a': Position(x=5.0, y=10.0, z=0.5), 'obj_b': Position(x=0.0, y=0.0, z=5.0), 'obj_c': Position(x=6.0, y=1.0, z=1.0), 'obj_d': Position(x=3.0, y=4.0, z=5.0)}\n",
      "objs pos dict :  {'obj_a': Position(x=5.0, y=10.0, z=0.5), 'obj_b': Position(x=5.0, y=10.0, z=1.5), 'obj_c': Position(x=5.0, y=10.0, z=2.5), 'obj_d': Position(x=5.0, y=10.0, z=3.25)}\n"
     ]
    }
   ],
   "source": [
    "from utils import render_objects\n",
    "\n",
    "# Problem 2 code here\n",
    "# Create object positions dictionary, mapping object names to their positions\n",
    "object_positions_dictionary = dict()\n",
    "object_positions_dictionary['ground'] = Position(x=0, y=0, z=0)\n",
    "\n",
    "for obj in objects_dictionary:\n",
    "    object_positions_dictionary[obj] = objects_dictionary[obj].com\n",
    "\n",
    "print(\"obj pos dict : \", object_positions_dictionary)\n",
    "\n",
    "# Create objects position dictionary\n",
    "objects_position_dictionary = {\n",
    "    'obj_a': Position(x=5.0, y=10.0, z=0.5),\n",
    "    'obj_b': Position(x=5.0, y=10.0, z=1.5),\n",
    "    'obj_c': Position(x=5.0, y=10.0, z=2.5),\n",
    "    'obj_d': Position(x=5.0, y=10.0, z=3.25)\n",
    "}\n",
    "\n",
    "print(\"objs pos dict : \", objects_position_dictionary)\n",
    "\n",
    "#render_objects(objects_dictionary, object_positions_dictionary)"
   ]
  },
  {
   "cell_type": "markdown",
   "metadata": {},
   "source": [
    "You may have noticed that if a cell dies while rendering, the next time you try to run it you get the following error\n",
    "\n",
    "**<span style=\"color:red\">error</span>: Only one local in-process GUI/GUI_SERVER connection allowed. Use DIRECT connection mode or start a separate GUI physics server (ExampleBrowser, App_SharedMemoryPhysics_GUI, App_SharedMemoryPhysics_VR) and connect over SHARED_MEMORY, UDP or TCP instead.**\n",
    "\n",
    "If this happens, run the cell below to disconnect from the pyBullet server. If it still doesn't work you may have to restart the kernel. If a cell runs to completion without crashing then you do not have to run the cell below."
   ]
  },
  {
   "cell_type": "code",
   "execution_count": null,
   "metadata": {},
   "outputs": [],
   "source": [
    "import pybullet as p\n",
    "p.disconnect()"
   ]
  },
  {
   "cell_type": "markdown",
   "metadata": {},
   "source": [
    "## Problem 3: Contact States\n",
    "\n",
    "Now that we know how to specify global/world positions of objects in the world, we want to specify contact arrangements of objects relative to each other. To do this there is a ```Contact``` namedtuple given below which gives the position of one object in the frame of another. For the remainder of this assigment only use 2 objects (not including the ground).\n",
    "\n",
    "1. __A__ ```contact_state``` **is a list of** ```Contact``` **instances. One of these** ```Contact```**s must include the ground. Make a** ```contact_state``` **for the 2 objects you chose. Make it a stable contact state (the objects don't fall when rendered).**\n",
    "2. **Make an unstable** ```contact_state```**, meaning the objects fall when rendered.**\n",
    "2. **Write a function**, ```get_ps_from_contacts(object_dictionary, contact_state)```**, which outputs an** ```object_positions_dictionary``` **.** \n",
    "3. **Use the output position dictionary to render both contact states (from 3.1 and 3.2) in pyBullet.**"
   ]
  },
  {
   "cell_type": "code",
   "execution_count": 22,
   "metadata": {},
   "outputs": [],
   "source": [
    "from utils import render_objects\n",
    "Contact = namedtuple('Contact', 'objectA_name objectB_name p_a_b')\n",
    "'''\n",
    ":param objectA_name: string, name of object A involved in contact\n",
    ":param objectB_name: string, name of object B involved in contact\n",
    ":param p_a_b: Position, the position of object A's link frame in object B' link frame\n",
    "''';\n",
    "\n",
    "# Problem 3 code here\n"
   ]
  },
  {
   "cell_type": "markdown",
   "metadata": {},
   "source": [
    "# Problem 4: Stack Stability\n",
    "\n",
    "There are many physics calculations going on in the pyBullet simulator to determine how objects move once they are rendered. Given object properties and a contact state, can you think of simple test to determine if the state is stable or not? Play around with a few different object properties (particularly the COM) and contact states to see if you can figure out a test for stability.\n",
    "\n",
    "**Write a function** ```check_stability(objects_dictionary, contact_state)``` **which returns True is the contact state is stable and False otherwise.**"
   ]
  },
  {
   "cell_type": "code",
   "execution_count": 20,
   "metadata": {},
   "outputs": [],
   "source": [
    "# Problem 4 code here\n"
   ]
  },
  {
   "cell_type": "markdown",
   "metadata": {},
   "source": [
    "## Problem 5: Stack Stability Search\n",
    "\n",
    "Now that we have a test for stack stability, we can write a simple search algorithm to find a stable arrangement of 2 blocks. This is a continuous search problem as the block positions are continuous variables, but to make it simpler, search over a discrete set of possible block contact arrangements and states.\n",
    "\n",
    "**Write a search algorithm,** ```stable_stack_search(objects_dictionary)```**, which returns and renders a** ```contact_state``` **with 2 blocks in a stable arrangement.**"
   ]
  },
  {
   "cell_type": "code",
   "execution_count": 21,
   "metadata": {},
   "outputs": [],
   "source": [
    "# Problem 5 code here\n"
   ]
  },
  {
   "cell_type": "markdown",
   "metadata": {},
   "source": [
    "## Question: Search Speed Up\n",
    "\n",
    "Can you think of any heuristics which would speed up this search process? Are there any object properties which can inform which possible contact arrangements and/or states will be less likely to result in a stable arragement? This problem does not require any code. Just jot down some ideas in the Markdown cell below."
   ]
  },
  {
   "cell_type": "markdown",
   "metadata": {},
   "source": []
  },
  {
   "cell_type": "markdown",
   "metadata": {},
   "source": [
    "## Question\n",
    "\n",
    "What was your favorite portion of this assignment and why? Use the cell below."
   ]
  },
  {
   "cell_type": "markdown",
   "metadata": {},
   "source": []
  },
  {
   "cell_type": "markdown",
   "metadata": {},
   "source": [
    "That's it! Good work!"
   ]
  }
 ],
 "metadata": {
  "kernelspec": {
   "display_name": "Python 3",
   "language": "python",
   "name": "python3"
  },
  "language_info": {
   "codemirror_mode": {
    "name": "ipython",
    "version": 3
   },
   "file_extension": ".py",
   "mimetype": "text/x-python",
   "name": "python",
   "nbconvert_exporter": "python",
   "pygments_lexer": "ipython3",
   "version": "3.7.6"
  }
 },
 "nbformat": 4,
 "nbformat_minor": 2
}
